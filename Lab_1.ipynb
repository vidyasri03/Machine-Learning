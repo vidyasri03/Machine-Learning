{
  "nbformat": 4,
  "nbformat_minor": 0,
  "metadata": {
    "colab": {
      "provenance": [],
      "history_visible": true
    },
    "kernelspec": {
      "name": "python3",
      "display_name": "Python 3"
    },
    "language_info": {
      "name": "python"
    }
  },
  "cells": [
    {
      "cell_type": "markdown",
      "source": [
        "program to count no. of vowels and consonants"
      ],
      "metadata": {
        "id": "ytSqysubbvOX"
      }
    },
    {
      "cell_type": "code",
      "source": [
        "def count_vowels_and_consonants(input_string):\n",
        "    vowels = 'aeiouAEIOU'\n",
        "    consonants = 'bcdfghjklmnpqrstvwxyzBCDFGHJKLMNPQRSTVWXYZ'\n",
        "    vowel_count = 0\n",
        "    consonant_count = 0\n",
        "    for char in input_string:\n",
        "        if char in vowels:\n",
        "            vowel_count += 1\n",
        "        elif char in consonants:\n",
        "            consonant_count += 1\n",
        "\n",
        "    return vowel_count, consonant_count\n",
        "input_string = input(\"Enter a string: \")\n",
        "vowel_count , consonant_count = count_vowels_and_consonants(input_string)\n",
        "print(f\"Number of vowels: {vowel_count}\")\n",
        "print(f\"Number of consonants: {consonant_count}\")\n",
        "\n"
      ],
      "metadata": {
        "colab": {
          "base_uri": "https://localhost:8080/"
        },
        "id": "79NyLevqX3Cg",
        "outputId": "c4064836-dc59-49a5-c513-4a7d074a8df6"
      },
      "execution_count": null,
      "outputs": [
        {
          "output_type": "stream",
          "name": "stdout",
          "text": [
            "Enter a string: machine learning\n",
            "Number of vowels: 6\n",
            "Number of consonants: 9\n"
          ]
        }
      ]
    },
    {
      "cell_type": "markdown",
      "source": [
        "Matrices of Multiplication"
      ],
      "metadata": {
        "id": "wotT4cdRbsJH"
      }
    },
    {
      "cell_type": "code",
      "source": [
        "def matrix_input(row, col):\n",
        "  A =[]\n",
        "  print(\"Enter values row wise\")\n",
        "  for i in range(0,row):\n",
        "    a = []\n",
        "    for j in range(0,col):\n",
        "      val = int(input())\n",
        "      a.append(val)\n",
        "    A.append(a)\n",
        "  return A\n",
        "\n",
        "def matrix_mul(A1, A2):\n",
        "  if len(A1[0]) != len(A2):\n",
        "    return \"error cannot multiply\"\n",
        "  else:\n",
        "    res = []\n",
        "    for i in range(0, len(A1)):\n",
        "      r =[]\n",
        "      for j in range(0, len(A2[0])):\n",
        "        r.append(0)\n",
        "      res.append(r)\n",
        "    for i in range(0,len(A1)):\n",
        "      for j in range(0, len(A2[0])):\n",
        "        for k in range(0, len(A2)):\n",
        "          res[i][j] += A1[i][k] * A2[k][j]\n",
        "    return res\n",
        "\n",
        "\n",
        "row1 =int(input(\"Enter number of rows for matrix 1: \"))\n",
        "col1 =int(input(\"Enter number of columns for matrix 1: \"))\n",
        "matrix1 = matrix_input(row1, col1)\n",
        "row2 =int(input(\"Enter number of rows for matrix 2: \"))\n",
        "col2 =int(input(\"Enter number of columns for matrix 2: \"))\n",
        "matrix2 = matrix_input(row2, col2)\n",
        "matrix_res= matrix_mul(matrix1,matrix2)\n",
        "print(\"result:\")\n",
        "print(matrix_res)"
      ],
      "metadata": {
        "colab": {
          "base_uri": "https://localhost:8080/"
        },
        "id": "Rj-G4ekXa5rg",
        "outputId": "a2c55b35-7814-4f90-ec49-c712a7d1a30e"
      },
      "execution_count": 1,
      "outputs": [
        {
          "output_type": "stream",
          "name": "stdout",
          "text": [
            "Enter number of rows for matrix 1: 2\n",
            "Enter number of columns for matrix 1: 2\n",
            "Enter values row wise\n",
            "2\n",
            "3\n",
            "4\n",
            "5\n",
            "Enter number of rows for matrix 2: 2\n",
            "Enter number of columns for matrix 2: 3\n",
            "Enter values row wise\n",
            "4\n",
            "5\n",
            "6\n",
            "7\n",
            "8\n",
            "9\n",
            "result:\n",
            "[[29, 34, 39], [51, 60, 69]]\n"
          ]
        }
      ]
    },
    {
      "cell_type": "markdown",
      "source": [
        "Common elements between two Lists"
      ],
      "metadata": {
        "id": "KH65jN3z9Pd0"
      }
    },
    {
      "cell_type": "code",
      "source": [
        "def common_member(a, b):\n",
        "  c=0\n",
        "  for i in range(0, len(a)):\n",
        "\t  if a[i] in b:\n",
        "\t\t\t\tc=c+1\n",
        "  return c\n",
        "n=int(input(\"enter length of list 1: \"))\n",
        "print(\"enter elements of list 1\")\n",
        "a=[]\n",
        "for i in range(0,n):\n",
        "\ta.append(input())\n",
        "m=int(input(\"enter length of list 2: \"))\n",
        "print(\"enter elements of list 2\")\n",
        "b=[]\n",
        "for i in range(0,m):\n",
        "\tb.append(input())\n",
        "print(\"no.of common integers:\")\n",
        "print(common_member(a, b))\n"
      ],
      "metadata": {
        "colab": {
          "base_uri": "https://localhost:8080/"
        },
        "id": "sDYFheUmkxo0",
        "outputId": "f6bb5acc-25e1-442e-cbb2-736189d99ebf"
      },
      "execution_count": 18,
      "outputs": [
        {
          "output_type": "stream",
          "name": "stdout",
          "text": [
            "enter length of list 1: 4\n",
            "enter elements of list 1\n",
            "1\n",
            "2\n",
            "3\n",
            "4\n",
            "enter length of list 2: 3\n",
            "enter elements of list 2\n",
            "2\n",
            "3\n",
            "4\n",
            "no.of common integers:\n",
            "3\n"
          ]
        }
      ]
    },
    {
      "cell_type": "markdown",
      "source": [
        "Matrix and its Transpose"
      ],
      "metadata": {
        "id": "hI2n1m2D7wzE"
      }
    },
    {
      "cell_type": "code",
      "source": [
        "def transpose_matrix(matrix):\n",
        "    transposed = []\n",
        "    num_rows = len(matrix)\n",
        "    num_cols = len(matrix[0])\n",
        "    for col in range(num_cols):\n",
        "        new_row = []\n",
        "        for row in range(num_rows):\n",
        "            new_row.append(matrix[row][col])\n",
        "        transposed.append(new_row)\n",
        "    return transposed\n",
        "def get_matrix_from_user():\n",
        "    rows = int(input(\"Enter the number of rows: \"))\n",
        "    cols = int(input(\"Enter the number of columns: \"))\n",
        "    matrix = []\n",
        "    print(\"Enter the elements:\")\n",
        "    for i in range(rows):\n",
        "        row = list(map(int, input(f\"Row {i+1}: \").split()))\n",
        "        matrix.append(row)\n",
        "    return matrix\n",
        "matrix = get_matrix_from_user()\n",
        "transposed_matrix = transpose_matrix(matrix)\n",
        "print(\"Original matrix:\")\n",
        "for row in matrix:\n",
        "    print(row)\n",
        "print(\"Transposed matrix:\")\n",
        "for row in transposed_matrix:\n",
        "    print(row)"
      ],
      "metadata": {
        "id": "5ekKTFzm7vtQ",
        "colab": {
          "base_uri": "https://localhost:8080/"
        },
        "outputId": "c0bffbc1-1aed-4a37-a254-5204b86f044f"
      },
      "execution_count": 21,
      "outputs": [
        {
          "output_type": "stream",
          "name": "stdout",
          "text": [
            "Enter the number of rows: 2\n",
            "Enter the number of columns: 3\n",
            "Enter the elements:\n",
            "Row 1: 4\n",
            "Row 2: 5\n",
            "Original matrix:\n",
            "[4]\n",
            "[5]\n",
            "Transposed matrix:\n",
            "[4, 5]\n"
          ]
        }
      ]
    }
  ]
}