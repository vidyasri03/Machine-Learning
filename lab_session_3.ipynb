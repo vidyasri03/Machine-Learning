{
  "nbformat": 4,
  "nbformat_minor": 0,
  "metadata": {
    "colab": {
      "provenance": []
    },
    "kernelspec": {
      "name": "python3",
      "display_name": "Python 3"
    },
    "language_info": {
      "name": "python"
    }
  },
  "cells": [
    {
      "cell_type": "markdown",
      "source": [],
      "metadata": {
        "id": "3nUt277hAvT5"
      }
    },
    {
      "cell_type": "code",
      "execution_count": null,
      "metadata": {
        "colab": {
          "base_uri": "https://localhost:8080/",
          "height": 90
        },
        "id": "HZqdE5yfMW1F",
        "outputId": "b88e5850-b323-4255-b27b-8dcfdd4d5de9"
      },
      "outputs": [
        {
          "output_type": "display_data",
          "data": {
            "text/plain": [
              "<IPython.core.display.HTML object>"
            ],
            "text/html": [
              "\n",
              "     <input type=\"file\" id=\"files-4528531d-a136-4b0b-b50f-4cbc5f0ffe90\" name=\"files[]\" multiple disabled\n",
              "        style=\"border:none\" />\n",
              "     <output id=\"result-4528531d-a136-4b0b-b50f-4cbc5f0ffe90\">\n",
              "      Upload widget is only available when the cell has been executed in the\n",
              "      current browser session. Please rerun this cell to enable.\n",
              "      </output>\n",
              "      <script>// Copyright 2017 Google LLC\n",
              "//\n",
              "// Licensed under the Apache License, Version 2.0 (the \"License\");\n",
              "// you may not use this file except in compliance with the License.\n",
              "// You may obtain a copy of the License at\n",
              "//\n",
              "//      http://www.apache.org/licenses/LICENSE-2.0\n",
              "//\n",
              "// Unless required by applicable law or agreed to in writing, software\n",
              "// distributed under the License is distributed on an \"AS IS\" BASIS,\n",
              "// WITHOUT WARRANTIES OR CONDITIONS OF ANY KIND, either express or implied.\n",
              "// See the License for the specific language governing permissions and\n",
              "// limitations under the License.\n",
              "\n",
              "/**\n",
              " * @fileoverview Helpers for google.colab Python module.\n",
              " */\n",
              "(function(scope) {\n",
              "function span(text, styleAttributes = {}) {\n",
              "  const element = document.createElement('span');\n",
              "  element.textContent = text;\n",
              "  for (const key of Object.keys(styleAttributes)) {\n",
              "    element.style[key] = styleAttributes[key];\n",
              "  }\n",
              "  return element;\n",
              "}\n",
              "\n",
              "// Max number of bytes which will be uploaded at a time.\n",
              "const MAX_PAYLOAD_SIZE = 100 * 1024;\n",
              "\n",
              "function _uploadFiles(inputId, outputId) {\n",
              "  const steps = uploadFilesStep(inputId, outputId);\n",
              "  const outputElement = document.getElementById(outputId);\n",
              "  // Cache steps on the outputElement to make it available for the next call\n",
              "  // to uploadFilesContinue from Python.\n",
              "  outputElement.steps = steps;\n",
              "\n",
              "  return _uploadFilesContinue(outputId);\n",
              "}\n",
              "\n",
              "// This is roughly an async generator (not supported in the browser yet),\n",
              "// where there are multiple asynchronous steps and the Python side is going\n",
              "// to poll for completion of each step.\n",
              "// This uses a Promise to block the python side on completion of each step,\n",
              "// then passes the result of the previous step as the input to the next step.\n",
              "function _uploadFilesContinue(outputId) {\n",
              "  const outputElement = document.getElementById(outputId);\n",
              "  const steps = outputElement.steps;\n",
              "\n",
              "  const next = steps.next(outputElement.lastPromiseValue);\n",
              "  return Promise.resolve(next.value.promise).then((value) => {\n",
              "    // Cache the last promise value to make it available to the next\n",
              "    // step of the generator.\n",
              "    outputElement.lastPromiseValue = value;\n",
              "    return next.value.response;\n",
              "  });\n",
              "}\n",
              "\n",
              "/**\n",
              " * Generator function which is called between each async step of the upload\n",
              " * process.\n",
              " * @param {string} inputId Element ID of the input file picker element.\n",
              " * @param {string} outputId Element ID of the output display.\n",
              " * @return {!Iterable<!Object>} Iterable of next steps.\n",
              " */\n",
              "function* uploadFilesStep(inputId, outputId) {\n",
              "  const inputElement = document.getElementById(inputId);\n",
              "  inputElement.disabled = false;\n",
              "\n",
              "  const outputElement = document.getElementById(outputId);\n",
              "  outputElement.innerHTML = '';\n",
              "\n",
              "  const pickedPromise = new Promise((resolve) => {\n",
              "    inputElement.addEventListener('change', (e) => {\n",
              "      resolve(e.target.files);\n",
              "    });\n",
              "  });\n",
              "\n",
              "  const cancel = document.createElement('button');\n",
              "  inputElement.parentElement.appendChild(cancel);\n",
              "  cancel.textContent = 'Cancel upload';\n",
              "  const cancelPromise = new Promise((resolve) => {\n",
              "    cancel.onclick = () => {\n",
              "      resolve(null);\n",
              "    };\n",
              "  });\n",
              "\n",
              "  // Wait for the user to pick the files.\n",
              "  const files = yield {\n",
              "    promise: Promise.race([pickedPromise, cancelPromise]),\n",
              "    response: {\n",
              "      action: 'starting',\n",
              "    }\n",
              "  };\n",
              "\n",
              "  cancel.remove();\n",
              "\n",
              "  // Disable the input element since further picks are not allowed.\n",
              "  inputElement.disabled = true;\n",
              "\n",
              "  if (!files) {\n",
              "    return {\n",
              "      response: {\n",
              "        action: 'complete',\n",
              "      }\n",
              "    };\n",
              "  }\n",
              "\n",
              "  for (const file of files) {\n",
              "    const li = document.createElement('li');\n",
              "    li.append(span(file.name, {fontWeight: 'bold'}));\n",
              "    li.append(span(\n",
              "        `(${file.type || 'n/a'}) - ${file.size} bytes, ` +\n",
              "        `last modified: ${\n",
              "            file.lastModifiedDate ? file.lastModifiedDate.toLocaleDateString() :\n",
              "                                    'n/a'} - `));\n",
              "    const percent = span('0% done');\n",
              "    li.appendChild(percent);\n",
              "\n",
              "    outputElement.appendChild(li);\n",
              "\n",
              "    const fileDataPromise = new Promise((resolve) => {\n",
              "      const reader = new FileReader();\n",
              "      reader.onload = (e) => {\n",
              "        resolve(e.target.result);\n",
              "      };\n",
              "      reader.readAsArrayBuffer(file);\n",
              "    });\n",
              "    // Wait for the data to be ready.\n",
              "    let fileData = yield {\n",
              "      promise: fileDataPromise,\n",
              "      response: {\n",
              "        action: 'continue',\n",
              "      }\n",
              "    };\n",
              "\n",
              "    // Use a chunked sending to avoid message size limits. See b/62115660.\n",
              "    let position = 0;\n",
              "    do {\n",
              "      const length = Math.min(fileData.byteLength - position, MAX_PAYLOAD_SIZE);\n",
              "      const chunk = new Uint8Array(fileData, position, length);\n",
              "      position += length;\n",
              "\n",
              "      const base64 = btoa(String.fromCharCode.apply(null, chunk));\n",
              "      yield {\n",
              "        response: {\n",
              "          action: 'append',\n",
              "          file: file.name,\n",
              "          data: base64,\n",
              "        },\n",
              "      };\n",
              "\n",
              "      let percentDone = fileData.byteLength === 0 ?\n",
              "          100 :\n",
              "          Math.round((position / fileData.byteLength) * 100);\n",
              "      percent.textContent = `${percentDone}% done`;\n",
              "\n",
              "    } while (position < fileData.byteLength);\n",
              "  }\n",
              "\n",
              "  // All done.\n",
              "  yield {\n",
              "    response: {\n",
              "      action: 'complete',\n",
              "    }\n",
              "  };\n",
              "}\n",
              "\n",
              "scope.google = scope.google || {};\n",
              "scope.google.colab = scope.google.colab || {};\n",
              "scope.google.colab._files = {\n",
              "  _uploadFiles,\n",
              "  _uploadFilesContinue,\n",
              "};\n",
              "})(self);\n",
              "</script> "
            ]
          },
          "metadata": {}
        },
        {
          "output_type": "stream",
          "name": "stdout",
          "text": [
            "Saving training_mathbert.xlsx to training_mathbert.xlsx\n"
          ]
        }
      ],
      "source": [
        "from google.colab import files\n",
        "uploaded = files.upload()"
      ]
    },
    {
      "cell_type": "code",
      "source": [
        "import pandas as pd\n",
        "import io\n",
        "import numpy as np\n",
        "data = pd.read_excel('training_mathbert.xlsx')\n",
        "df= pd.DataFrame(data)\n",
        "\n",
        "def calc_meanClass(column_name, value):\n",
        "  output_value = []\n",
        "  for i in range(len(column_name)):\n",
        "    if column_name.iloc[i] == value:\n",
        "      output_value.append(df[\"output\"].iloc[i])\n",
        "  mean = np.mean(output_value)\n",
        "  return mean\n",
        "\n",
        "def calc_spreadClass(column_name, value):\n",
        "  output_value = []\n",
        "  for i in range(len(column_name)):\n",
        "    if column_name.iloc[i] == value:\n",
        "      output_value.append(df[\"output\"].iloc[i])\n",
        "  stand = np.std(output_value)\n",
        "  return stand\n",
        "class_col = df[\"class(0/1)\"]\n",
        "mean1 = calc_meanClass(class_col,0)\n",
        "mean2 = calc_meanClass(class_col,1)\n",
        "print(\"Mean of incorrect class:\", round(mean1,5))\n",
        "print(\"Mean of correct class:\", round(mean2,5))\n",
        "\n",
        "spread1 = calc_spreadClass(class_col,0)\n",
        "spread2 = calc_spreadClass(class_col,1)\n",
        "print(\"Spread of incorrect class:\", round(spread1,5))\n",
        "print(\"Spread of correct class:\", round(spread2,5))\n",
        "\n",
        "distance = np.linalg.norm(mean1 - mean2)\n",
        "print(\"Distance between mean vectors:\", round(distance, 5))"
      ],
      "metadata": {
        "id": "QlWZvXJcMoaR",
        "colab": {
          "base_uri": "https://localhost:8080/"
        },
        "outputId": "afb4207a-655e-49ab-d466-dea73325be7b"
      },
      "execution_count": null,
      "outputs": [
        {
          "output_type": "stream",
          "name": "stdout",
          "text": [
            "Mean of incorrect class: 2.58226\n",
            "Mean of correct class: 4.48965\n",
            "Spread of incorrect class: 0.90851\n",
            "Spread of correct class: 0.35891\n",
            "Distance between mean vectors: 1.90738\n"
          ]
        }
      ]
    },
    {
      "cell_type": "code",
      "source": [
        "import matplotlib.pyplot as plt\n",
        "def minkowski_distance(x, y, r):\n",
        "    return np.power(np.sum(np.power(np.abs(x - y), r)), 1/r)\n",
        "\n",
        "def show_plot(dist, r_values):\n",
        "  plt.plot(r_values, dist)\n",
        "  plt.xlabel('r')\n",
        "  plt.ylabel('Minkowski Distance')\n",
        "  plt.title('Minkowski Distance vs. r')\n",
        "\n",
        "vector1 = np.array(df.loc[0, 'embed_0':'embed_383'])\n",
        "vector2 = np.array(df.loc[1, 'embed_0':'embed_383'])\n",
        "r_values = range(1,11)\n",
        "m_distance = []\n",
        "for r in r_values:\n",
        "    dist = minkowski_distance(vector1, vector2, r)\n",
        "    m_distance.append(dist)\n",
        "\n",
        "show_plot(m_distance,r_values)"
      ],
      "metadata": {
        "colab": {
          "base_uri": "https://localhost:8080/",
          "height": 472
        },
        "id": "CbeB_LrDAzv6",
        "outputId": "27a53620-baba-4568-9540-4c92c5dd9d02"
      },
      "execution_count": null,
      "outputs": [
        {
          "output_type": "display_data",
          "data": {
            "text/plain": [
              "<Figure size 640x480 with 1 Axes>"
            ],
            "image/png": "[encoded data removed]"
          },
          "metadata": {}
        }
      ]
    },
    {
      "cell_type": "code",
      "source": [
        "import pandas as pd\n",
        "import numpy as np\n",
        "from sklearn.model_selection import train_test_split\n",
        "from sklearn.neighbors import KNeighborsClassifier\n",
        "from sklearn.metrics import accuracy_score, confusion_matrix, precision_score, recall_score, f1_score\n",
        "import matplotlib.pyplot as plt\n",
        "\n",
        "data = pd.read_excel('training_mathbert.xlsx')\n",
        "df = pd.DataFrame(data)\n",
        "\n",
        "\n",
        "X = df.loc[:, 'embed_0':'embed_383'].values\n",
        "y = df['class(0/1)'].values\n",
        "\n",
        "# Splittin the data into training and testing sets\n",
        "X_train, X_test, y_train, y_test = train_test_split(X, y, test_size=0.2, random_state=42)\n",
        "neigh = KNeighborsClassifier(n_neighbors=3)\n",
        "# Train the classifier using the training set\n",
        "neigh.fit(X_train, y_train)\n",
        "\n",
        "accuracy = neigh.score(X_test, y_test)\n",
        "print(\"Accuracy on test set for k=3 is:\", accuracy)\n",
        "\n",
        "y_pred = neigh.predict(X_test)\n",
        "test_vect = X_test[0]\n",
        "predicted_class = neigh.predict([test_vect])\n",
        "\n",
        "train_accuracies = []\n",
        "test_accuracies = []\n",
        "k_values = range(1, 12)\n",
        "for k in k_values:\n",
        "    # Create kNN classifier\n",
        "    knn = KNeighborsClassifier(n_neighbors=k)\n",
        "    knn.fit(X_train, y_train)\n",
        "\n",
        "    # Predict on the training and testing data\n",
        "    y_train_pred = knn.predict(X_train)\n",
        "    y_test_pred = knn.predict(X_test)\n",
        "\n",
        "    train_accuracy = accuracy_score(y_train, y_train_pred)\n",
        "    test_accuracy = accuracy_score(y_test, y_test_pred)\n",
        "\n",
        "    train_accuracies.append(train_accuracy)\n",
        "    test_accuracies.append(test_accuracy)\n",
        "#accuracy graph\n",
        "plt.plot(k_values, train_accuracies, label='Training Accuracy')\n",
        "plt.plot(k_values, test_accuracies, label='Testing Accuracy')\n",
        "plt.xlabel('k (Number of Neighbors)')\n",
        "plt.ylabel('Accuracy')\n",
        "plt.title('kNN Accuracy vs. k')\n",
        "plt.legend()\n",
        "plt.show()\n",
        "# performance on training data\n",
        "print(\"Performance on Training Data:\")\n",
        "print(\"Confusion Matrix:\\n\", confusion_matrix(y_train, y_train_pred))\n",
        "print(\"Accuracy:\", accuracy_score(y_train, y_train_pred))\n",
        "print(\"Precision:\", precision_score(y_train, y_train_pred))\n",
        "print(\"Recall:\", recall_score(y_train, y_train_pred))\n",
        "print(\"F1-Score:\", f1_score(y_train, y_train_pred))\n",
        "\n",
        "# performance on testing data\n",
        "print(\"Performance on Testing Data:\")\n",
        "print(\"Confusion Matrix:\\n\", confusion_matrix(y_test, y_test_pred))\n",
        "print(\"Accuracy:\", accuracy_score(y_test, y_test_pred))\n",
        "print(\"Precision:\", precision_score(y_test, y_test_pred))\n",
        "print(\"Recall:\", recall_score(y_test, y_test_pred))\n",
        "print(\"F1-Score:\", f1_score(y_test, y_test_pred))\n",
        "if accuracy_score(y_train, y_train_pred) > 0.9 and accuracy_score(y_test, y_test_pred) < 0.8:\n",
        "    print(\"\\nModel is likely overfitting.\")\n",
        "elif accuracy_score(y_train, y_train_pred) < 0.7 :\n",
        "    print(\"\\nModel is likely underfitting.\")\n",
        "else:\n",
        "    print(\"\\nModel seems to be regular fitting.\")\n"
      ],
      "metadata": {
        "colab": {
          "base_uri": "https://localhost:8080/",
          "height": 802
        },
        "id": "hBgolKwtCHvn",
        "outputId": "ff72e1af-e1a2-4047-9f6f-5902a2e29347"
      },
      "execution_count": null,
      "outputs": [
        {
          "output_type": "stream",
          "name": "stdout",
          "text": [
            "Accuracy on test set for k=3 is: 0.7522123893805309\n"
          ]
        },
        {
          "output_type": "display_data",
          "data": {
            "text/plain": [
              "<Figure size 640x480 with 1 Axes>"
            ],
            "image/png": "[encoded data removed]"
          },
          "metadata": {}
        },
        {
          "output_type": "stream",
          "name": "stdout",
          "text": [
            "Performance on Training Data:\n",
            "Confusion Matrix:\n",
            " [[563  69]\n",
            " [124 144]]\n",
            "Accuracy: 0.7855555555555556\n",
            "Precision: 0.676056338028169\n",
            "Recall: 0.5373134328358209\n",
            "F1-Score: 0.5987525987525988\n",
            "Performance on Testing Data:\n",
            "Confusion Matrix:\n",
            " [[146  22]\n",
            " [ 33  25]]\n",
            "Accuracy: 0.7566371681415929\n",
            "Precision: 0.5319148936170213\n",
            "Recall: 0.43103448275862066\n",
            "F1-Score: 0.4761904761904762\n",
            "\n",
            "Model seems to be regular fitting.\n"
          ]
        }
      ]
    },
    {
      "cell_type": "code",
      "source": [],
      "metadata": {
        "id": "_8krNtuaC3wK"
      },
      "execution_count": null,
      "outputs": []
    }
  ]
}