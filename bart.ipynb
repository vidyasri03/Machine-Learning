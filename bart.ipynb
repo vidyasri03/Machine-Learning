{
  "cells": [
    {
      "cell_type": "markdown",
      "metadata": {
        "id": "view-in-github",
        "colab_type": "text"
      },
      "source": [
        "<a href=\"https://colab.research.google.com/github/vidyasri03/Machine-Learning/blob/main/bart.ipynb\" target=\"_parent\"><img src=\"https://colab.research.google.com/assets/colab-badge.svg\" alt=\"Open In Colab\"/></a>"
      ]
    },
    {
      "cell_type": "code",
      "execution_count": null,
      "metadata": {
        "colab": {
          "base_uri": "https://localhost:8080/"
        },
        "id": "8aiZFEjDDRVP",
        "outputId": "e49c8cd4-4c56-41f6-bb88-a8c472a7de5c"
      },
      "outputs": [
        {
          "output_type": "stream",
          "name": "stderr",
          "text": [
            "/usr/local/lib/python3.10/dist-packages/numpy/ma/core.py:2820: RuntimeWarning: invalid value encountered in cast\n",
            "  _data = np.array(data, dtype=dtype, copy=copy,\n"
          ]
        },
        {
          "output_type": "stream",
          "name": "stdout",
          "text": [
            "Best Parameters: {'kernel': 'rbf', 'gamma': 'scale', 'degree': 4, 'C': 10}\n",
            "Evaluation Metrics: {'Accuracy Mean': 0.666, 'Accuracy STD': 0.0375, 'Precision Mean': 0.6749, 'Precision STD': 0.04, 'Recall Mean': 0.6691, 'Recall STD': 0.0377, 'F1 Mean': 0.6695, 'F1 STD': 0.0376}\n"
          ]
        }
      ],
      "source": [
        "import pandas as pd\n",
        "from sklearn.model_selection import train_test_split, RandomizedSearchCV, cross_validate\n",
        "from sklearn.svm import SVC\n",
        "from sklearn.preprocessing import StandardScaler\n",
        "from sklearn.metrics import accuracy_score, precision_score, recall_score, f1_score\n",
        "\n",
        "# Load the dataset from an Excel file\n",
        "data = pd.read_excel('bart_embeddings.xlsx')\n",
        "\n",
        "# Assume the last column is the target variable\n",
        "X = data.iloc[:, :-1]  # Features\n",
        "y = data.iloc[:, -1]    # Target variable\n",
        "\n",
        "# Split the data into training and test sets (80% train, 20% test)\n",
        "X_train, X_test, y_train, y_test = train_test_split(X, y, test_size=0.2, random_state=42, stratify=y)\n",
        "\n",
        "# Standardize features\n",
        "scaler = StandardScaler()\n",
        "X_train = scaler.fit_transform(X_train)\n",
        "X_test = scaler.transform(X_test)\n",
        "\n",
        "# Define the SVM model\n",
        "svm = SVC()\n",
        "\n",
        "# Set up the parameter grid for RandomizedSearchCV\n",
        "param_distributions = {\n",
        "    'C': [0.1, 1, 10, 100],\n",
        "    'kernel': ['linear', 'rbf', 'poly'],\n",
        "    'gamma': ['scale', 'auto'],\n",
        "    'degree': [2, 3, 4]  # Applicable only for polynomial kernel\n",
        "}\n",
        "\n",
        "# Set up the RandomizedSearchCV\n",
        "random_search = RandomizedSearchCV(\n",
        "    estimator=svm,\n",
        "    param_distributions=param_distributions,\n",
        "    n_iter=20,  # Number of random combinations to try\n",
        "    cv=10,  # 10-fold cross-validation\n",
        "    scoring='f1_macro',  # Change this to any other scoring metric if needed\n",
        "    random_state=42,\n",
        "    n_jobs=-1  # Use all available cores\n",
        ")\n",
        "\n",
        "# Fit the random search model\n",
        "random_search.fit(X_train, y_train)\n",
        "\n",
        "# Print the best parameters found\n",
        "print(\"Best Parameters:\", random_search.best_params_)\n",
        "\n",
        "# Get the best estimator\n",
        "best_svm = random_search.best_estimator_\n",
        "\n",
        "# Perform cross-validation on the best model\n",
        "cv_score = cross_validate(best_svm, X_train, y_train, cv=10, scoring=['accuracy', 'precision_macro', 'recall_macro', 'f1_macro'], return_train_score=False)\n",
        "\n",
        "# Collect and round the results\n",
        "results = {\n",
        "    'Accuracy Mean': round(cv_score['test_accuracy'].mean(), 4),\n",
        "    'Accuracy STD': round(cv_score['test_accuracy'].std(), 4),\n",
        "    'Precision Mean': round(cv_score['test_precision_macro'].mean(), 4),\n",
        "    'Precision STD': round(cv_score['test_precision_macro'].std(), 4),\n",
        "    'Recall Mean': round(cv_score['test_recall_macro'].mean(), 4),\n",
        "    'Recall STD': round(cv_score['test_recall_macro'].std(), 4),\n",
        "    'F1 Mean': round(cv_score['test_f1_macro'].mean(), 4),\n",
        "    'F1 STD': round(cv_score['test_f1_macro'].std(), 4),\n",
        "}\n",
        "\n",
        "# Print the evaluation metrics\n",
        "print(\"Evaluation Metrics:\", results)"
      ]
    },
    {
      "cell_type": "code",
      "source": [
        "from sklearn.tree import DecisionTreeClassifier\n",
        "from sklearn.model_selection import RandomizedSearchCV, StratifiedKFold, cross_validate\n",
        "from sklearn.preprocessing import StandardScaler\n",
        "from imblearn.over_sampling import SMOTE  # For handling class imbalance\n",
        "\n",
        "# Optional: Scaling the features (this isn't strictly necessary for Decision Trees but may help)\n",
        "scaler = StandardScaler()\n",
        "X_train_scaled = scaler.fit_transform(X_train)\n",
        "\n",
        "# Optional: Handling class imbalance using SMOTE\n",
        "smote = SMOTE(random_state=42)\n",
        "X_train_resampled, y_train_resampled = smote.fit_resample(X_train_scaled, y_train)\n",
        "\n",
        "# Define the Decision Tree model\n",
        "dtree = DecisionTreeClassifier(random_state=42, class_weight='balanced')  # Use class_weight='balanced' to handle class imbalance\n",
        "\n",
        "# Set up the parameter grid for RandomizedSearchCV\n",
        "param_distributions = {\n",
        "    'criterion': ['gini', 'entropy'],\n",
        "    'max_depth': [None, 5, 10, 15, 20, 25],\n",
        "    'min_samples_split': [2, 5, 10, 20],\n",
        "    'min_samples_leaf': [1, 2, 4, 6, 10],\n",
        "    'max_features': [None, 'sqrt', 'log2'],\n",
        "}\n",
        "\n",
        "# Set up the RandomizedSearchCV\n",
        "random_search = RandomizedSearchCV(\n",
        "    estimator=dtree,\n",
        "    param_distributions=param_distributions,\n",
        "    n_iter=20,  # Number of random combinations to try\n",
        "    cv=StratifiedKFold(n_splits=10),  # Use StratifiedKFold to preserve class distribution\n",
        "    scoring='f1_macro',  # F1 macro to handle imbalanced classes\n",
        "    random_state=42,\n",
        "    n_jobs=-1\n",
        ")\n",
        "\n",
        "# Fit the RandomizedSearchCV\n",
        "random_search.fit(X_train_resampled, y_train_resampled)\n",
        "\n",
        "# Output the best parameters\n",
        "print(\"Best Parameters:\", random_search.best_params_)\n",
        "\n",
        "# Get the best Decision Tree model\n",
        "best_dtree = random_search.best_estimator_\n",
        "\n",
        "# Perform cross-validation on the best model\n",
        "cv_score = cross_validate(best_dtree, X_train_resampled, y_train_resampled, cv=StratifiedKFold(n_splits=10),\n",
        "                          scoring=['accuracy', 'precision_macro', 'recall_macro', 'f1_macro'], return_train_score=False)\n",
        "\n",
        "# Collect and round the results\n",
        "results = {\n",
        "    'Accuracy Mean': round(cv_score['test_accuracy'].mean(), 4),\n",
        "    'Accuracy STD': round(cv_score['test_accuracy'].std(), 4),\n",
        "    'Precision Mean': round(cv_score['test_precision_macro'].mean(), 4),\n",
        "    'Precision STD': round(cv_score['test_precision_macro'].std(), 4),\n",
        "    'Recall Mean': round(cv_score['test_recall_macro'].mean(), 4),\n",
        "    'Recall STD': round(cv_score['test_recall_macro'].std(), 4),\n",
        "    'F1 Mean': round(cv_score['test_f1_macro'].mean(), 4),\n",
        "    'F1 STD': round(cv_score['test_f1_macro'].std(), 4),\n",
        "}\n",
        "\n",
        "# Print the evaluation metrics\n",
        "print(\"Evaluation Metrics:\", results)"
      ],
      "metadata": {
        "colab": {
          "base_uri": "https://localhost:8080/"
        },
        "id": "F3m6RCAIZxP8",
        "outputId": "2bcfce91-b212-4ad7-c08f-03550f672a19"
      },
      "execution_count": null,
      "outputs": [
        {
          "output_type": "stream",
          "name": "stdout",
          "text": [
            "Best Parameters: {'min_samples_split': 2, 'min_samples_leaf': 4, 'max_features': 'sqrt', 'max_depth': 25, 'criterion': 'gini'}\n",
            "Evaluation Metrics: {'Accuracy Mean': 0.5862, 'Accuracy STD': 0.0633, 'Precision Mean': 0.5914, 'Precision STD': 0.0592, 'Recall Mean': 0.5862, 'Recall STD': 0.0633, 'F1 Mean': 0.5855, 'F1 STD': 0.0614}\n"
          ]
        }
      ]
    },
    {
      "cell_type": "code",
      "source": [
        "from sklearn.neural_network import MLPClassifier\n",
        "\n",
        "# Define the MLP model\n",
        "mlp = MLPClassifier(max_iter=2000, random_state=42)\n",
        "\n",
        "# Set up the parameter grid for RandomizedSearchCV\n",
        "param_distributions = {\n",
        "    'hidden_layer_sizes': [(50,), (100,)],\n",
        "    'activation': ['logistic', 'tanh', 'relu'],\n",
        "    'solver': ['adam', 'sgd'],\n",
        "    'learning_rate': ['constant', 'adaptive'],\n",
        "}\n",
        "\n",
        "# Set up the RandomizedSearchCV\n",
        "random_search = RandomizedSearchCV(\n",
        "    estimator=mlp,\n",
        "    param_distributions=param_distributions,\n",
        "    n_iter=5,\n",
        "    cv=5,\n",
        "    scoring='f1_macro',\n",
        "    random_state=42,\n",
        "    n_jobs=-1\n",
        ")\n",
        "\n",
        "random_search.fit(X_train, y_train)\n",
        "\n",
        "print(\"MLP Best Parameters:\", random_search.best_params_)\n",
        "\n",
        "# Perform cross-validation on the best model\n",
        "best_mlp = random_search.best_estimator_\n",
        "cv_score = cross_validate(best_mlp, X_train, y_train, cv=5, scoring=['accuracy', 'precision_macro', 'recall_macro', 'f1_macro'], return_train_score=False)\n",
        "\n",
        "# Collect and round the results\n",
        "results = {\n",
        "    'Accuracy Mean': round(cv_score['test_accuracy'].mean(), 4),\n",
        "    'Accuracy STD': round(cv_score['test_accuracy'].std(), 4),\n",
        "    'Precision Mean': round(cv_score['test_precision_macro'].mean(), 4),\n",
        "    'Precision STD': round(cv_score['test_precision_macro'].std(), 4),\n",
        "    'Recall Mean': round(cv_score['test_recall_macro'].mean(), 4),\n",
        "    'Recall STD': round(cv_score['test_recall_macro'].std(), 4),\n",
        "    'F1 Mean': round(cv_score['test_f1_macro'].mean(), 4),\n",
        "    'F1 STD': round(cv_score['test_f1_macro'].std(), 4),\n",
        "}\n",
        "\n",
        "print(\"MLP Evaluation Metrics:\", results)"
      ],
      "metadata": {
        "colab": {
          "base_uri": "https://localhost:8080/"
        },
        "id": "xOQ9KZujatZF",
        "outputId": "25c4c697-aed4-4c3b-bd38-014f838300bc"
      },
      "execution_count": null,
      "outputs": [
        {
          "output_type": "stream",
          "name": "stdout",
          "text": [
            "MLP Best Parameters: {'solver': 'adam', 'learning_rate': 'constant', 'hidden_layer_sizes': (50,), 'activation': 'logistic'}\n",
            "MLP Evaluation Metrics: {'Accuracy Mean': 0.6272, 'Accuracy STD': 0.012, 'Precision Mean': 0.6317, 'Precision STD': 0.0076, 'Recall Mean': 0.6337, 'Recall STD': 0.0149, 'F1 Mean': 0.6312, 'F1 STD': 0.0104}\n"
          ]
        }
      ]
    },
    {
      "cell_type": "code",
      "source": [
        "from xgboost import XGBClassifier\n",
        "from sklearn.model_selection import RandomizedSearchCV\n",
        "from sklearn.model_selection import StratifiedKFold\n",
        "\n",
        "# Define the XGBoost model\n",
        "xgb = XGBClassifier(random_state=42)\n",
        "\n",
        "# Set up the parameter grid for RandomizedSearchCV\n",
        "param_distributions = {\n",
        "    'n_estimators': [100, 200],\n",
        "    'max_depth': [3, 5, 7],\n",
        "    'learning_rate': [0.01,  0.1],\n",
        "    'subsample': [ 0.8, 1.0],\n",
        "    'colsample_bytree': [ 0.8, 1.0],\n",
        "    'gamma': [0, 1],\n",
        "    'class_weight': ['balanced']\n",
        "}\n",
        "\n",
        "# Set up RandomizedSearchCV\n",
        "random_search = RandomizedSearchCV(\n",
        "    estimator=xgb,\n",
        "    param_distributions=param_distributions,\n",
        "    n_iter=5,\n",
        "    cv=StratifiedKFold(n_splits=5),\n",
        "    scoring='f1_macro',\n",
        "    random_state=42,\n",
        "    n_jobs=-1\n",
        ")\n",
        "\n",
        "# Fit the RandomizedSearchCV\n",
        "random_search.fit(X_train, y_train)\n",
        "\n",
        "# Output best parameters and score\n",
        "print(\"Best Parameters:\", random_search.best_params_)\n",
        "\n",
        "# Get the best model\n",
        "best_xgb = random_search.best_estimator_\n",
        "\n",
        "# Perform cross-validation on the best XGBoost model\n",
        "cv_score = cross_validate(best_xgb, X_train, y_train, cv=5,\n",
        "                          scoring=['accuracy', 'precision_macro', 'recall_macro', 'f1_macro'], return_train_score=False)\n",
        "\n",
        "# Collect and round the results\n",
        "results = {\n",
        "    'Accuracy Mean': round(cv_score['test_accuracy'].mean(), 4),\n",
        "    'Accuracy STD': round(cv_score['test_accuracy'].std(), 4),\n",
        "    'Precision Mean': round(cv_score['test_precision_macro'].mean(), 4),\n",
        "    'Precision STD': round(cv_score['test_precision_macro'].std(), 4),\n",
        "    'Recall Mean': round(cv_score['test_recall_macro'].mean(), 4),\n",
        "    'Recall STD': round(cv_score['test_recall_macro'].std(), 4),\n",
        "    'F1 Mean': round(cv_score['test_f1_macro'].mean(), 4),\n",
        "    'F1 STD': round(cv_score['test_f1_macro'].std(), 4),\n",
        "}\n",
        "\n",
        "# Print the evaluation metrics\n",
        "print(\"Evaluation Metrics:\", results)"
      ],
      "metadata": {
        "colab": {
          "base_uri": "https://localhost:8080/"
        },
        "id": "ynDb9VvLcPNI",
        "outputId": "601154a6-9181-4b16-8bc4-4f041efefee8"
      },
      "execution_count": null,
      "outputs": [
        {
          "output_type": "stream",
          "name": "stderr",
          "text": [
            "/usr/local/lib/python3.10/dist-packages/xgboost/core.py:158: UserWarning: [15:18:39] WARNING: /workspace/src/learner.cc:740: \n",
            "Parameters: { \"class_weight\" } are not used.\n",
            "\n",
            "  warnings.warn(smsg, UserWarning)\n"
          ]
        },
        {
          "output_type": "stream",
          "name": "stdout",
          "text": [
            "Best Parameters: {'subsample': 0.8, 'n_estimators': 200, 'max_depth': 7, 'learning_rate': 0.1, 'gamma': 1, 'colsample_bytree': 1.0, 'class_weight': 'balanced'}\n"
          ]
        },
        {
          "output_type": "stream",
          "name": "stderr",
          "text": [
            "/usr/local/lib/python3.10/dist-packages/xgboost/core.py:158: UserWarning: [15:19:26] WARNING: /workspace/src/learner.cc:740: \n",
            "Parameters: { \"class_weight\" } are not used.\n",
            "\n",
            "  warnings.warn(smsg, UserWarning)\n",
            "/usr/local/lib/python3.10/dist-packages/xgboost/core.py:158: UserWarning: [15:20:07] WARNING: /workspace/src/learner.cc:740: \n",
            "Parameters: { \"class_weight\" } are not used.\n",
            "\n",
            "  warnings.warn(smsg, UserWarning)\n",
            "/usr/local/lib/python3.10/dist-packages/xgboost/core.py:158: UserWarning: [15:20:49] WARNING: /workspace/src/learner.cc:740: \n",
            "Parameters: { \"class_weight\" } are not used.\n",
            "\n",
            "  warnings.warn(smsg, UserWarning)\n",
            "/usr/local/lib/python3.10/dist-packages/xgboost/core.py:158: UserWarning: [15:21:28] WARNING: /workspace/src/learner.cc:740: \n",
            "Parameters: { \"class_weight\" } are not used.\n",
            "\n",
            "  warnings.warn(smsg, UserWarning)\n",
            "/usr/local/lib/python3.10/dist-packages/xgboost/core.py:158: UserWarning: [15:22:08] WARNING: /workspace/src/learner.cc:740: \n",
            "Parameters: { \"class_weight\" } are not used.\n",
            "\n",
            "  warnings.warn(smsg, UserWarning)\n"
          ]
        },
        {
          "output_type": "stream",
          "name": "stdout",
          "text": [
            "Evaluation Metrics: {'Accuracy Mean': 0.6384, 'Accuracy STD': 0.0212, 'Precision Mean': 0.6533, 'Precision STD': 0.0277, 'Recall Mean': 0.6374, 'Recall STD': 0.0201, 'F1 Mean': 0.6424, 'F1 STD': 0.0214}\n"
          ]
        }
      ]
    },
    {
      "cell_type": "code",
      "source": [
        "from sklearn.ensemble import AdaBoostClassifier\n",
        "from sklearn.tree import DecisionTreeClassifier\n",
        "from sklearn.model_selection import RandomizedSearchCV, StratifiedKFold, cross_validate\n",
        "from sklearn.preprocessing import StandardScaler\n",
        "from imblearn.over_sampling import SMOTE\n",
        "\n",
        "# Step 1: Feature Scaling (important for many models)\n",
        "scaler = StandardScaler()\n",
        "X_train_scaled = scaler.fit_transform(X_train)\n",
        "\n",
        "# Step 2: Handle class imbalance using SMOTE (if needed)\n",
        "smote = SMOTE(random_state=42)\n",
        "X_train_resampled, y_train_resampled = smote.fit_resample(X_train_scaled, y_train)\n",
        "\n",
        "# Step 3: Define the AdaBoost model with a shallow decision tree as the base estimator\n",
        "base_estimator = DecisionTreeClassifier(max_depth=3, random_state=42)\n",
        "\n",
        "ada = AdaBoostClassifier(\n",
        "    estimator=base_estimator,\n",
        "    random_state=42\n",
        ")\n",
        "\n",
        "# Step 4: Set up the parameter grid for RandomizedSearchCV\n",
        "param_distributions = {\n",
        "    'n_estimators': [50, 100, 200],  # Number of boosting rounds (trees)\n",
        "    'learning_rate': [0.01, 0.1, 1.0],  # How much each estimator contributes\n",
        "    'estimator__max_depth': [3, 5, 7]  # Max depth of the decision tree (base estimator)\n",
        "}\n",
        "\n",
        "# Step 5: Set up RandomizedSearchCV with StratifiedKFold for cross-validation\n",
        "skf = StratifiedKFold(n_splits=5)\n",
        "\n",
        "random_search = RandomizedSearchCV(\n",
        "    estimator=ada,\n",
        "    param_distributions=param_distributions,\n",
        "    n_iter=10,\n",
        "    cv=skf,\n",
        "    scoring='f1_macro',\n",
        "    random_state=42,\n",
        "    n_jobs=-1\n",
        ")\n",
        "\n",
        "# Step 6: Fit the model with the best parameters\n",
        "random_search.fit(X_train_resampled, y_train_resampled)\n",
        "\n",
        "# Print the best parameters found\n",
        "print(\"AdaBoost Best Parameters:\", random_search.best_params_)\n",
        "\n",
        "# Step 7: Perform cross-validation on the best AdaBoost model\n",
        "best_ada = random_search.best_estimator_\n",
        "cv_score = cross_validate(\n",
        "    best_ada, X_train_resampled, y_train_resampled, cv=skf, scoring=['accuracy', 'precision_macro', 'recall_macro', 'f1_macro'], return_train_score=False\n",
        ")\n",
        "# Step 8: Collect and round the results\n",
        "results = {\n",
        "    'Accuracy Mean': round(cv_score['test_accuracy'].mean(), 4),\n",
        "    'Accuracy STD': round(cv_score['test_accuracy'].std(), 4),\n",
        "    'Precision Mean': round(cv_score['test_precision_macro'].mean(), 4),\n",
        "    'Precision STD': round(cv_score['test_precision_macro'].std(), 4),\n",
        "    'Recall Mean': round(cv_score['test_recall_macro'].mean(), 4),\n",
        "    'Recall STD': round(cv_score['test_recall_macro'].std(), 4),\n",
        "    'F1 Mean': round(cv_score['test_f1_macro'].mean(), 4),\n",
        "    'F1 STD': round(cv_score['test_f1_macro'].std(), 4),\n",
        "}\n",
        "\n",
        "# Print the evaluation metrics\n",
        "print(\"AdaBoost Evaluation Metrics:\", results)"
      ],
      "metadata": {
        "colab": {
          "base_uri": "https://localhost:8080/"
        },
        "id": "N5G1Y_zgirYV",
        "outputId": "096dccca-1d45-425f-879d-440db61c488c"
      },
      "execution_count": null,
      "outputs": [
        {
          "output_type": "stream",
          "name": "stderr",
          "text": [
            "/usr/local/lib/python3.10/dist-packages/sklearn/ensemble/_weight_boosting.py:527: FutureWarning: The SAMME.R algorithm (the default) is deprecated and will be removed in 1.6. Use the SAMME algorithm to circumvent this warning.\n",
            "  warnings.warn(\n"
          ]
        },
        {
          "output_type": "stream",
          "name": "stdout",
          "text": [
            "AdaBoost Best Parameters: {'n_estimators': 50, 'learning_rate': 1.0, 'estimator__max_depth': 7}\n"
          ]
        },
        {
          "output_type": "stream",
          "name": "stderr",
          "text": [
            "/usr/local/lib/python3.10/dist-packages/sklearn/ensemble/_weight_boosting.py:527: FutureWarning: The SAMME.R algorithm (the default) is deprecated and will be removed in 1.6. Use the SAMME algorithm to circumvent this warning.\n",
            "  warnings.warn(\n",
            "/usr/local/lib/python3.10/dist-packages/sklearn/ensemble/_weight_boosting.py:527: FutureWarning: The SAMME.R algorithm (the default) is deprecated and will be removed in 1.6. Use the SAMME algorithm to circumvent this warning.\n",
            "  warnings.warn(\n",
            "/usr/local/lib/python3.10/dist-packages/sklearn/ensemble/_weight_boosting.py:527: FutureWarning: The SAMME.R algorithm (the default) is deprecated and will be removed in 1.6. Use the SAMME algorithm to circumvent this warning.\n",
            "  warnings.warn(\n",
            "/usr/local/lib/python3.10/dist-packages/sklearn/ensemble/_weight_boosting.py:527: FutureWarning: The SAMME.R algorithm (the default) is deprecated and will be removed in 1.6. Use the SAMME algorithm to circumvent this warning.\n",
            "  warnings.warn(\n",
            "/usr/local/lib/python3.10/dist-packages/sklearn/ensemble/_weight_boosting.py:527: FutureWarning: The SAMME.R algorithm (the default) is deprecated and will be removed in 1.6. Use the SAMME algorithm to circumvent this warning.\n",
            "  warnings.warn(\n"
          ]
        },
        {
          "output_type": "stream",
          "name": "stdout",
          "text": [
            "AdaBoost Evaluation Metrics: {'Accuracy Mean': 0.6987, 'Accuracy STD': 0.0313, 'Precision Mean': 0.7038, 'Precision STD': 0.0237, 'Recall Mean': 0.6987, 'Recall STD': 0.0313, 'F1 Mean': 0.6976, 'F1 STD': 0.0245}\n"
          ]
        }
      ]
    }
  ],
  "metadata": {
    "colab": {
      "provenance": [],
      "authorship_tag": "ABX9TyNNdGCVKK7WW6WEnmY57kud",
      "include_colab_link": true
    },
    "kernelspec": {
      "display_name": "Python 3",
      "name": "python3"
    },
    "language_info": {
      "name": "python"
    }
  },
  "nbformat": 4,
  "nbformat_minor": 0
}